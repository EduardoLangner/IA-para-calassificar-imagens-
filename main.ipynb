{
 "cells": [
  {
   "cell_type": "markdown",
   "metadata": {},
   "source": [
    "Redes Neurais Convolucionais (CNNs ou ConvNets) são um tipo de arquitetura de rede neural profunda projetada especialmente para tarefas de processamento de imagens. Elas são inspiradas no funcionamento do sistema visual biológico dos animais e são amplamente utilizadas em visão computacional e tarefas de reconhecimento de padrões em imagens."
   ]
  },
  {
   "cell_type": "code",
   "execution_count": 1,
   "metadata": {},
   "outputs": [],
   "source": [
    "import numpy as np # manipular array multidimencionais\n",
    "import matplotlib.pyplot as plt # criar graficos e plotar resultados\n",
    "from keras.datasets import mnist, cifar10 # conjuntos de dados populares para classificar imagens, são usadas para testar redes neurais convolucionais\n",
    "\n",
    "from keras.models import Sequential\n",
    "#é uma pilha linear de camadas que você pode adicionar para construir sua rede neural.\n",
    "\n",
    "from keras.layers import Dense, Flatten, Conv2D, MaxPooling2D\n",
    "# Dense: Esta camada é uma camada totalmente conectada, comumente usada na parte final de redes neurais para classificação.\n",
    "#Flatten: Esta camada é usada para transformar dados de entrada multidimensionais em uma forma unidimensional, comumente antes de camadas densas.\n",
    "#Conv2D: Esta é uma camada de convolução 2D usada para extrair características de imagens.\n",
    "#MaxPooling2D: Essa camada é usada para realizar o agrupamento máximo 2D, reduzindo a resolução espacial dos dados.\n",
    "\n",
    "from keras.utils import to_categorical\n",
    "# codificação one-hot de rótulos categóricos."
   ]
  }
 ],
 "metadata": {
  "kernelspec": {
   "display_name": "base",
   "language": "python",
   "name": "python3"
  },
  "language_info": {
   "codemirror_mode": {
    "name": "ipython",
    "version": 3
   },
   "file_extension": ".py",
   "mimetype": "text/x-python",
   "name": "python",
   "nbconvert_exporter": "python",
   "pygments_lexer": "ipython3",
   "version": "3.11.5"
  }
 },
 "nbformat": 4,
 "nbformat_minor": 2
}
